{
 "cells": [
  {
   "cell_type": "code",
   "execution_count": 11,
   "id": "08d61642",
   "metadata": {},
   "outputs": [],
   "source": [
    "import pandas as pd\n",
    "import spacy"
   ]
  },
  {
   "cell_type": "code",
   "execution_count": 12,
   "id": "e409edde",
   "metadata": {},
   "outputs": [],
   "source": [
    "df=pd.read_csv(\"pronoun_testcases.csv\")"
   ]
  },
  {
   "cell_type": "code",
   "execution_count": 13,
   "id": "d76400af",
   "metadata": {},
   "outputs": [
    {
     "name": "stdout",
     "output_type": "stream",
     "text": [
      "                   input_text target_gender              expected_output\n",
      "0  He is going to the market.        female  She is going to the market.\n",
      "1   His book is on the table.        female    Her book is on the table.\n",
      "2        I saw him yesterday.        female         I saw her yesterday.\n",
      "3            He hurt himself.        female            She hurt herself.\n",
      "4    I called him last night.        female     I called her last night.\n"
     ]
    }
   ],
   "source": [
    "print(df.head())\n"
   ]
  },
  {
   "cell_type": "code",
   "execution_count": 14,
   "id": "40b276fe",
   "metadata": {},
   "outputs": [],
   "source": [
    "nlp = spacy.load(\"en_core_web_sm\")\n",
    "\n",
    "\n",
    "def exchange_pronouns(text, target_gender):\n",
    "    doc = nlp(text)\n",
    "    replacements = []\n",
    "    for token in doc:\n",
    "        original_text = token.text\n",
    "        replacement = None\n",
    "        pos = token.pos_\n",
    "        dep = token.dep_\n",
    "        if target_gender.lower() == 'female':\n",
    "            if original_text.lower() == 'he':\n",
    "                replacement = 'She' if original_text[0].isupper() else 'she'\n",
    "            elif original_text.lower() == 'him':\n",
    "                replacement = 'Her' if original_text[0].isupper() else 'her'\n",
    "            elif original_text.lower() == 'his':\n",
    "                replacement = 'Her' if original_text[0].isupper() else 'her'\n",
    "            elif original_text.lower() == 'himself':\n",
    "                replacement = 'Herself' if original_text[0].isupper() else 'herself'\n",
    "        elif target_gender.lower() == 'male':\n",
    "            if original_text.lower() == 'she':\n",
    "                replacement = 'He' if original_text[0].isupper() else 'he'\n",
    "            elif original_text.lower() == 'her':\n",
    "                # Use dependency and POS to distinguish possessive vs object\n",
    "                if dep == 'poss' or (pos == 'PRON' and dep == 'nmod') or (token.head.text.lower() == 'her' and dep == 'nmod'):\n",
    "                    replacement = 'His' if original_text[0].isupper() else 'his'\n",
    "                else:\n",
    "                    replacement = 'Him' if original_text[0].isupper() else 'him'\n",
    "            elif original_text.lower() == 'hers':\n",
    "                replacement = 'His' if original_text[0].isupper() else 'his'\n",
    "            elif original_text.lower() == 'herself':\n",
    "                replacement = 'Himself' if original_text[0].isupper() else 'himself'\n",
    "        if replacement:\n",
    "            replacements.append((token.idx, token.idx + len(token.text), replacement))\n",
    "    result = text\n",
    "    for start, end, replacement in reversed(replacements):\n",
    "        result = result[:start] + replacement + result[end:]\n",
    "    return result"
   ]
  },
  {
   "cell_type": "code",
   "execution_count": 19,
   "id": "3c1b59de",
   "metadata": {},
   "outputs": [
    {
     "name": "stdout",
     "output_type": "stream",
     "text": [
      "\n",
      "Accuracy: 26/26 = 100.00%\n"
     ]
    },
    {
     "data": {
      "text/html": [
       "<div>\n",
       "<style scoped>\n",
       "    .dataframe tbody tr th:only-of-type {\n",
       "        vertical-align: middle;\n",
       "    }\n",
       "\n",
       "    .dataframe tbody tr th {\n",
       "        vertical-align: top;\n",
       "    }\n",
       "\n",
       "    .dataframe thead th {\n",
       "        text-align: right;\n",
       "    }\n",
       "</style>\n",
       "<table border=\"1\" class=\"dataframe\">\n",
       "  <thead>\n",
       "    <tr style=\"text-align: right;\">\n",
       "      <th></th>\n",
       "      <th>input_text</th>\n",
       "      <th>target_gender</th>\n",
       "      <th>expected_output</th>\n",
       "      <th>predicted_output</th>\n",
       "    </tr>\n",
       "  </thead>\n",
       "  <tbody>\n",
       "    <tr>\n",
       "      <th>0</th>\n",
       "      <td>He is going to the market.</td>\n",
       "      <td>female</td>\n",
       "      <td>She is going to the market.</td>\n",
       "      <td>She is going to the market.</td>\n",
       "    </tr>\n",
       "    <tr>\n",
       "      <th>1</th>\n",
       "      <td>His book is on the table.</td>\n",
       "      <td>female</td>\n",
       "      <td>Her book is on the table.</td>\n",
       "      <td>Her book is on the table.</td>\n",
       "    </tr>\n",
       "    <tr>\n",
       "      <th>2</th>\n",
       "      <td>I saw him yesterday.</td>\n",
       "      <td>female</td>\n",
       "      <td>I saw her yesterday.</td>\n",
       "      <td>I saw her yesterday.</td>\n",
       "    </tr>\n",
       "    <tr>\n",
       "      <th>3</th>\n",
       "      <td>He hurt himself.</td>\n",
       "      <td>female</td>\n",
       "      <td>She hurt herself.</td>\n",
       "      <td>She hurt herself.</td>\n",
       "    </tr>\n",
       "    <tr>\n",
       "      <th>4</th>\n",
       "      <td>I called him last night.</td>\n",
       "      <td>female</td>\n",
       "      <td>I called her last night.</td>\n",
       "      <td>I called her last night.</td>\n",
       "    </tr>\n",
       "  </tbody>\n",
       "</table>\n",
       "</div>"
      ],
      "text/plain": [
       "                   input_text target_gender              expected_output  \\\n",
       "0  He is going to the market.        female  She is going to the market.   \n",
       "1   His book is on the table.        female    Her book is on the table.   \n",
       "2        I saw him yesterday.        female         I saw her yesterday.   \n",
       "3            He hurt himself.        female            She hurt herself.   \n",
       "4    I called him last night.        female     I called her last night.   \n",
       "\n",
       "              predicted_output  \n",
       "0  She is going to the market.  \n",
       "1    Her book is on the table.  \n",
       "2         I saw her yesterday.  \n",
       "3            She hurt herself.  \n",
       "4     I called her last night.  "
      ]
     },
     "metadata": {},
     "output_type": "display_data"
    },
    {
     "name": "stdout",
     "output_type": "stream",
     "text": [
      "\n",
      "Token Analysis:\n",
      "Token: 'The', POS: DET, Dep: det\n",
      "Token: 'teacher', POS: NOUN, Dep: nsubj\n",
      "Token: 'gave', POS: VERB, Dep: ROOT\n",
      "Token: 'him', POS: PRON, Dep: dative\n",
      "Token: 'a', POS: DET, Dep: det\n",
      "Token: 'warning', POS: NOUN, Dep: dobj\n",
      "Token: '.', POS: PUNCT, Dep: punct\n"
     ]
    }
   ],
   "source": [
    "import pandas as pd\n",
    "from IPython.display import display, HTML\n",
    "import random\n",
    "\n",
    "df['predicted_output'] = df.apply(lambda row: exchange_pronouns(row['input_text'], row['target_gender']), axis=1)\n",
    "\n",
    "correct = (df['predicted_output'] == df['expected_output']).sum()\n",
    "total = len(df)\n",
    "print(f\"\\nAccuracy: {correct}/{total} = {correct/total:.2%}\")\n",
    "\n",
    "\n",
    "successful_cases = df[df['predicted_output'] == df['expected_output']][['input_text','target_gender','expected_output','predicted_output']].head(5)\n",
    "display(successful_cases)\n",
    "\n",
    "\n",
    "random_idx = random.randint(0, len(df)-1)\n",
    "sample_row = df.iloc[random_idx]\n",
    "\n",
    "print(\"\\nToken Analysis:\")\n",
    "doc = nlp(sample_row['input_text'])\n",
    "for token in doc:\n",
    "    print(f\"Token: '{token.text}', POS: {token.pos_}, Dep: {token.dep_}\")"
   ]
  }
 ],
 "metadata": {
  "kernelspec": {
   "display_name": "Python 3",
   "language": "python",
   "name": "python3"
  },
  "language_info": {
   "codemirror_mode": {
    "name": "ipython",
    "version": 3
   },
   "file_extension": ".py",
   "mimetype": "text/x-python",
   "name": "python",
   "nbconvert_exporter": "python",
   "pygments_lexer": "ipython3",
   "version": "3.12.9"
  }
 },
 "nbformat": 4,
 "nbformat_minor": 5
}
